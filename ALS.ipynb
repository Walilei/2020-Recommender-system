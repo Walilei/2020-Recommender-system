{
 "cells": [
  {
   "cell_type": "code",
   "execution_count": 1,
   "metadata": {},
   "outputs": [],
   "source": [
    "import pyspark\n",
    "from pyspark import SparkContext, SparkConf\n",
    "from pyspark.sql import SparkSession\n",
    "import pyspark.sql.functions as F\n",
    "from pyspark.sql.types import *"
   ]
  },
  {
   "cell_type": "code",
   "execution_count": 2,
   "metadata": {},
   "outputs": [],
   "source": [
    "sc = SparkContext()"
   ]
  },
  {
   "cell_type": "code",
   "execution_count": 3,
   "metadata": {},
   "outputs": [
    {
     "data": {
      "text/plain": [
       "['11123,160475,7,Vitamin Water Zero Squeezed Lemonade',\n",
       " '29974,135004,3,Gluten Free Cinnamon French Toast Sticks',\n",
       " '48398,82943,7,Maca Cold Brew Coffee Super Herb Elixir',\n",
       " '49273,157805,2,Light and Lean Quinoa Black Beans with Butternut Squash and Chard',\n",
       " '26790,150317,15,Organic AppleApple',\n",
       " '28204,128089,4,Organic Fuji Apple',\n",
       " '13176,181571,3,Bag of Organic Bananas',\n",
       " '32655,92678,17,Organic Large Grade AA Brown Eggs',\n",
       " '3896,88698,62,Organic Honey Sweet Whole Wheat Bread',\n",
       " '27086,8031,2,Half & Half',\n",
       " '33342,193965,5,Organic Red Grape Tomato Package',\n",
       " '22035,131089,5,Organic Whole String Cheese',\n",
       " \"29810,869,1,Torched Marshmellow S'more Gelato\",\n",
       " '8277,108520,3,Apple Honeycrisp Organic',\n",
       " '30142,194400,9,Vegetable Dumpling',\n",
       " '13984,106483,6,Organic Mint',\n",
       " '40229,47306,2,Organic Whole Wheat Penne Rigate',\n",
       " '8580,46859,4,VitaminWater Zero™ XXX Acai Blueberry Pomegranate',\n",
       " '7139,37498,1,Sooo Good Light Roast Coffee',\n",
       " '21479,158552,7,Organic Turkish Figs',\n",
       " '28427,73538,4,Vitamin D Whole Milk',\n",
       " '31215,203821,2,Lemon Yogurt',\n",
       " '3913,19670,2,Original Unfiltered Ginger Ale',\n",
       " '11187,182832,5,Revel Berry Yerba Mate',\n",
       " '7700,54276,4,Lavender Aloe Liquid Soap',\n",
       " '33704,4747,1,Lavender Vanilla Wet Mopping Cloths Refills With Febreze',\n",
       " '11512,199054,4,Honey Yoghurt',\n",
       " '31717,23251,2,Organic Cilantro',\n",
       " '28515,47562,4,Bagel Thins Everything',\n",
       " '28934,200557,2,Frozen Broccoli Florets']"
      ]
     },
     "execution_count": 3,
     "metadata": {},
     "output_type": "execute_result"
    }
   ],
   "source": [
    "# 讀取客戶購買次數資料，作為評分RDD資料\n",
    "\n",
    "rawRatings = sc.textFile('./prefer_raw.csv')\n",
    "\n",
    "rawRatings = rawRatings.filter(lambda row: 'user_id' not in row)\n",
    "rawRatings.take(30)"
   ]
  },
  {
   "cell_type": "code",
   "execution_count": 4,
   "metadata": {},
   "outputs": [
    {
     "data": {
      "text/plain": [
       "[['11123', '160475', '7'],\n",
       " ['29974', '135004', '3'],\n",
       " ['48398', '82943', '7'],\n",
       " ['49273', '157805', '2'],\n",
       " ['26790', '150317', '15'],\n",
       " ['28204', '128089', '4'],\n",
       " ['13176', '181571', '3'],\n",
       " ['32655', '92678', '17'],\n",
       " ['3896', '88698', '62'],\n",
       " ['27086', '8031', '2'],\n",
       " ['33342', '193965', '5'],\n",
       " ['22035', '131089', '5'],\n",
       " ['29810', '869', '1'],\n",
       " ['8277', '108520', '3'],\n",
       " ['30142', '194400', '9'],\n",
       " ['13984', '106483', '6'],\n",
       " ['40229', '47306', '2'],\n",
       " ['8580', '46859', '4'],\n",
       " ['7139', '37498', '1'],\n",
       " ['21479', '158552', '7'],\n",
       " ['28427', '73538', '4'],\n",
       " ['31215', '203821', '2'],\n",
       " ['3913', '19670', '2'],\n",
       " ['11187', '182832', '5'],\n",
       " ['7700', '54276', '4'],\n",
       " ['33704', '4747', '1'],\n",
       " ['11512', '199054', '4'],\n",
       " ['31717', '23251', '2'],\n",
       " ['28515', '47562', '4'],\n",
       " ['28934', '200557', '2']]"
      ]
     },
     "execution_count": 4,
     "metadata": {},
     "output_type": "execute_result"
    }
   ],
   "source": [
    "# 整理格式\n",
    "\n",
    "rawRatings = rawRatings.map(lambda row: row.split(',')[:3])\n",
    "rawRatings.take(30)"
   ]
  },
  {
   "cell_type": "code",
   "execution_count": 5,
   "metadata": {},
   "outputs": [],
   "source": [
    "# 匯入評分分析工具\n",
    "\n",
    "import pyspark.mllib.recommendation as rd"
   ]
  },
  {
   "cell_type": "code",
   "execution_count": 27,
   "metadata": {},
   "outputs": [
    {
     "data": {
      "text/plain": [
       "[Rating(user=160475, product=11123, rating=7.0),\n",
       " Rating(user=135004, product=29974, rating=3.0),\n",
       " Rating(user=82943, product=48398, rating=7.0),\n",
       " Rating(user=157805, product=49273, rating=2.0),\n",
       " Rating(user=150317, product=26790, rating=15.0),\n",
       " Rating(user=128089, product=28204, rating=4.0),\n",
       " Rating(user=181571, product=13176, rating=3.0),\n",
       " Rating(user=92678, product=32655, rating=17.0),\n",
       " Rating(user=88698, product=3896, rating=62.0),\n",
       " Rating(user=8031, product=27086, rating=2.0),\n",
       " Rating(user=193965, product=33342, rating=5.0),\n",
       " Rating(user=131089, product=22035, rating=5.0),\n",
       " Rating(user=869, product=29810, rating=1.0),\n",
       " Rating(user=108520, product=8277, rating=3.0),\n",
       " Rating(user=194400, product=30142, rating=9.0),\n",
       " Rating(user=106483, product=13984, rating=6.0),\n",
       " Rating(user=47306, product=40229, rating=2.0),\n",
       " Rating(user=46859, product=8580, rating=4.0),\n",
       " Rating(user=37498, product=7139, rating=1.0),\n",
       " Rating(user=158552, product=21479, rating=7.0)]"
      ]
     },
     "execution_count": 27,
     "metadata": {},
     "output_type": "execute_result"
    }
   ],
   "source": [
    "ratings = rawRatings.map(lambda line: rd.Rating(int(line[1]), int(line[0]), float(line[2])))\n",
    "ratings.take(20)"
   ]
  },
  {
   "cell_type": "code",
   "execution_count": 29,
   "metadata": {},
   "outputs": [],
   "source": [
    "# 開始建立模型\n",
    "\n",
    "from pyspark.mllib.recommendation import ALS, MatrixFactorizationModel, Rating"
   ]
  },
  {
   "cell_type": "code",
   "execution_count": 35,
   "metadata": {},
   "outputs": [],
   "source": [
    "# rank: 矩陣分解時對應的低維的維數，這個值會影響矩陣分解的性能，\n",
    "#       越大則算法運行的時間和占用的內存可能會越多。通常需要進行調參，一般可以取10-200之間的數\n",
    "# iteration: 在矩陣分解用交替最小二乘法求解時，進行疊代的最大次數。一般來說，不需要太大，比如5-20次即可。\n",
    "# lambda: FunkSVD分解時對應的正則化係數。主要用於控制模型的擬合程度，增強模型泛化能力。取值越大，則正則化懲罰越強。\n",
    "# alpha: 這個參數僅僅在使用隱式反饋trainImplicit時有用。\n",
    "#        指定了隱式反饋信心閾值，這個值越大則越認為用戶和他沒有評分的物品之間沒有關聯。\n",
    "\n",
    "# model = ALS.trainImplicit(ratings=ratings, rank=20, iterations=5, lambda_=0.02, alpha=0.01)\n",
    "model = ALS.train(ratings=ratings, rank=20, iterations=5, lambda_=0.02)\n",
    "\n",
    "# 儲存模型\n",
    "model.save(sc, \"./spark_ALS_explicit_model\")\n",
    "\n",
    "# 讀取模型\n",
    "model = MatrixFactorizationModel.load(sc, \"./spark_ALS_explicit_model\")"
   ]
  },
  {
   "cell_type": "code",
   "execution_count": 36,
   "metadata": {},
   "outputs": [
    {
     "data": {
      "text/plain": [
       "[Rating(user=99753, product=48095, rating=183.70266695694423),\n",
       " Rating(user=99753, product=40576, rating=164.29677068978563),\n",
       " Rating(user=99753, product=17020, rating=161.87533503443484),\n",
       " Rating(user=99753, product=39782, rating=160.08180214491708),\n",
       " Rating(user=99753, product=39834, rating=128.1120609368091),\n",
       " Rating(user=99753, product=28335, rating=120.916233301852),\n",
       " Rating(user=99753, product=33692, rating=116.64747865424951),\n",
       " Rating(user=99753, product=48776, rating=115.71496891275969),\n",
       " Rating(user=99753, product=35776, rating=114.74972244677147),\n",
       " Rating(user=99753, product=42871, rating=111.46885955098162)]"
      ]
     },
     "execution_count": 36,
     "metadata": {},
     "output_type": "execute_result"
    }
   ],
   "source": [
    "# 預測99753客戶最喜歡的前10名產品\n",
    "\n",
    "model.recommendProducts(99753,10)"
   ]
  },
  {
   "cell_type": "code",
   "execution_count": 37,
   "metadata": {},
   "outputs": [
    {
     "data": {
      "text/plain": [
       "[Rating(user=204061, product=27845, rating=143.5716523250718),\n",
       " Rating(user=5588, product=27845, rating=136.7501103799552),\n",
       " Rating(user=193164, product=27845, rating=121.72224726838226),\n",
       " Rating(user=124991, product=27845, rating=121.26780098635496),\n",
       " Rating(user=100698, product=27845, rating=114.30059258117413),\n",
       " Rating(user=55989, product=27845, rating=112.43260294966208),\n",
       " Rating(user=28556, product=27845, rating=110.26587495786107),\n",
       " Rating(user=23832, product=27845, rating=107.56856123693942),\n",
       " Rating(user=119002, product=27845, rating=103.71278495987036),\n",
       " Rating(user=171919, product=27845, rating=99.3887401334534),\n",
       " Rating(user=99753, product=27845, rating=96.8860953053294),\n",
       " Rating(user=91606, product=27845, rating=96.71165789695475),\n",
       " Rating(user=126633, product=27845, rating=95.40045157776042),\n",
       " Rating(user=52489, product=27845, rating=93.91561871358702),\n",
       " Rating(user=199229, product=27845, rating=91.55252985523938),\n",
       " Rating(user=97865, product=27845, rating=89.30933956164698),\n",
       " Rating(user=81750, product=27845, rating=85.62103703165437),\n",
       " Rating(user=27536, product=27845, rating=85.617017691195),\n",
       " Rating(user=69189, product=27845, rating=82.28329744906637),\n",
       " Rating(user=147197, product=27845, rating=81.76059533614344)]"
      ]
     },
     "execution_count": 37,
     "metadata": {},
     "output_type": "execute_result"
    }
   ],
   "source": [
    "# 預測物品27845買最多的20位客戶\n",
    "\n",
    "model.recommendUsers(27845,20)"
   ]
  },
  {
   "cell_type": "code",
   "execution_count": 38,
   "metadata": {},
   "outputs": [
    {
     "data": {
      "text/plain": [
       "95.91708381512103"
      ]
     },
     "execution_count": 38,
     "metadata": {},
     "output_type": "execute_result"
    }
   ],
   "source": [
    "# 預測99753客戶對產品38689的購買次數\n",
    "\n",
    "model.predict(99753,38689)"
   ]
  },
  {
   "cell_type": "code",
   "execution_count": 39,
   "metadata": {},
   "outputs": [
    {
     "data": {
      "text/plain": [
       "[(18624,\n",
       "  (Rating(user=18624, product=2090, rating=54.529223016135745),\n",
       "   Rating(user=18624, product=40576, rating=46.586033565344955),\n",
       "   Rating(user=18624, product=34246, rating=45.3464736963488))),\n",
       " (152288,\n",
       "  (Rating(user=152288, product=40576, rating=21.65587684513895),\n",
       "   Rating(user=152288, product=33692, rating=15.44271590436704),\n",
       "   Rating(user=152288, product=14366, rating=14.567617019134182))),\n",
       " (23776,\n",
       "  (Rating(user=23776, product=17020, rating=21.201474398782818),\n",
       "   Rating(user=23776, product=25593, rating=18.40920468521647),\n",
       "   Rating(user=23776, product=12885, rating=18.20396289442082))),\n",
       " (155312,\n",
       "  (Rating(user=155312, product=40576, rating=15.47711855379748),\n",
       "   Rating(user=155312, product=34246, rating=11.62621248984673),\n",
       "   Rating(user=155312, product=15783, rating=10.314815960164243))),\n",
       " (58592,\n",
       "  (Rating(user=58592, product=48776, rating=19.542927032730997),\n",
       "   Rating(user=58592, product=12844, rating=18.913622459836702),\n",
       "   Rating(user=58592, product=13128, rating=18.353979882532705))),\n",
       " (82512,\n",
       "  (Rating(user=82512, product=6209, rating=22.86378288764597),\n",
       "   Rating(user=82512, product=13128, rating=18.341848357859924),\n",
       "   Rating(user=82512, product=40576, rating=18.1526295217957))),\n",
       " (105040,\n",
       "  (Rating(user=105040, product=17020, rating=21.172087953359362),\n",
       "   Rating(user=105040, product=40576, rating=20.196913487989143),\n",
       "   Rating(user=105040, product=19675, rating=17.317062078848743))),\n",
       " (29856,\n",
       "  (Rating(user=29856, product=35649, rating=9.557073475487076),\n",
       "   Rating(user=29856, product=35496, rating=8.946357259413153),\n",
       "   Rating(user=29856, product=40576, rating=8.313692030081054))),\n",
       " (15392,\n",
       "  (Rating(user=15392, product=6209, rating=21.171434893483298),\n",
       "   Rating(user=15392, product=17020, rating=17.674553270078594),\n",
       "   Rating(user=15392, product=2090, rating=17.127991047197444))),\n",
       " (103184,\n",
       "  (Rating(user=103184, product=7733, rating=15.595304179054722),\n",
       "   Rating(user=103184, product=35496, rating=14.312354437865952),\n",
       "   Rating(user=103184, product=6433, rating=13.696735401763352)))]"
      ]
     },
     "execution_count": 39,
     "metadata": {},
     "output_type": "execute_result"
    }
   ],
   "source": [
    "# 預測每個客戶購買數量最高的前3項產品\n",
    "\n",
    "model.recommendProductsForUsers(3).take(10)"
   ]
  },
  {
   "cell_type": "code",
   "execution_count": 20,
   "metadata": {},
   "outputs": [
    {
     "data": {
      "text/plain": [
       "[(27456,\n",
       "  (Rating(user=82414, product=27456, rating=36.607387481766324),\n",
       "   Rating(user=16397, product=27456, rating=29.92879255109831),\n",
       "   Rating(user=103593, product=27456, rating=22.96549073368934))),\n",
       " (18624,\n",
       "  (Rating(user=16397, product=18624, rating=51.74954878287376),\n",
       "   Rating(user=82414, product=18624, rating=47.91279346577359),\n",
       "   Rating(user=81678, product=18624, rating=39.127227741522546))),\n",
       " (17984,\n",
       "  (Rating(user=81678, product=17984, rating=128.5156773855486),\n",
       "   Rating(user=140753, product=17984, rating=115.81656200222838),\n",
       "   Rating(user=154246, product=17984, rating=114.92028222416036))),\n",
       " (3456,\n",
       "  (Rating(user=82414, product=3456, rating=176.56098821112468),\n",
       "   Rating(user=5588, product=3456, rating=119.53461943028145),\n",
       "   Rating(user=118685, product=3456, rating=94.55353238242157))),\n",
       " (22720,\n",
       "  (Rating(user=100935, product=22720, rating=45.85980378227007),\n",
       "   Rating(user=5588, product=22720, rating=39.44746951848547),\n",
       "   Rating(user=125378, product=22720, rating=39.29986390734222))),\n",
       " (6400,\n",
       "  (Rating(user=140753, product=6400, rating=86.16212602086085),\n",
       "   Rating(user=204061, product=6400, rating=71.55500764116965),\n",
       "   Rating(user=185201, product=6400, rating=64.07539784664021))),\n",
       " (45184,\n",
       "  (Rating(user=81678, product=45184, rating=50.374404298394296),\n",
       "   Rating(user=16397, product=45184, rating=44.86817094743938),\n",
       "   Rating(user=34396, product=45184, rating=37.53041080912756))),\n",
       " (30720,\n",
       "  (Rating(user=82414, product=30720, rating=46.7780265155481),\n",
       "   Rating(user=103593, product=30720, rating=37.816794241400615),\n",
       "   Rating(user=5588, product=30720, rating=32.43458844448837))),\n",
       " (24384,\n",
       "  (Rating(user=16397, product=24384, rating=47.70546368263842),\n",
       "   Rating(user=196224, product=24384, rating=34.55544758198002),\n",
       "   Rating(user=82414, product=24384, rating=27.662430076118063))),\n",
       " (29696,\n",
       "  (Rating(user=82414, product=29696, rating=46.37966473027787),\n",
       "   Rating(user=16397, product=29696, rating=34.899866368100774),\n",
       "   Rating(user=103593, product=29696, rating=22.409397835192884)))]"
      ]
     },
     "execution_count": 20,
     "metadata": {},
     "output_type": "execute_result"
    }
   ],
   "source": [
    "# 預測每個產品購買量最高的3個客戶\n",
    "\n",
    "model.recommendUsersForProducts(3).take(10)"
   ]
  },
  {
   "cell_type": "code",
   "execution_count": null,
   "metadata": {},
   "outputs": [],
   "source": [
    "# 模型評估"
   ]
  }
 ],
 "metadata": {
  "kernelspec": {
   "display_name": "Python 3",
   "language": "python",
   "name": "python3"
  },
  "language_info": {
   "codemirror_mode": {
    "name": "ipython",
    "version": 3
   },
   "file_extension": ".py",
   "mimetype": "text/x-python",
   "name": "python",
   "nbconvert_exporter": "python",
   "pygments_lexer": "ipython3",
   "version": "3.8.2"
  }
 },
 "nbformat": 4,
 "nbformat_minor": 4
}
