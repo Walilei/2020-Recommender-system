{
 "cells": [
  {
   "cell_type": "code",
   "execution_count": 1,
   "metadata": {},
   "outputs": [],
   "source": [
    "# 用以下指令連結spark\n",
    "import findspark\n",
    "findspark.init()\n",
    "\n",
    "import pyspark\n",
    "from pyspark import SparkContext, SparkConf\n",
    "from pyspark.sql import SparkSession\n",
    "import pyspark.sql.functions as F\n",
    "from pyspark.sql.types import *"
   ]
  },
  {
   "cell_type": "code",
   "execution_count": 2,
   "metadata": {},
   "outputs": [],
   "source": [
    "spark = SparkSession.builder.appName('instacart').getOrCreate()"
   ]
  },
  {
   "cell_type": "code",
   "execution_count": 3,
   "metadata": {},
   "outputs": [],
   "source": [
    "# 用SparkSession讀取csv為DataFrame\n",
    "schema = pyspark.sql.types.StructType([\n",
    "   StructField(\"order_id\", IntegerType(), True),\n",
    "   StructField(\"product_id\", IntegerType(), True),])\n",
    "prior_order = spark.read.csv(header=True, path='./instacart_2017_05_01/order_products__prior.csv', schema=schema)\n",
    "train = spark.read.csv(header=True, path='./instacart_2017_05_01/order_products__train.csv', schema=schema)\n",
    "\n",
    "schema = pyspark.sql.types.StructType([\n",
    "   StructField(\"order_id\", IntegerType(), True),\n",
    "   StructField(\"user_id\", IntegerType(), True),\n",
    "   StructField(\"eval_set\", StringType(), True),\n",
    "])\n",
    "order = spark.read.csv(header=True, path='./instacart_2017_05_01/orders.csv', schema=schema)\n",
    "\n",
    "schema = pyspark.sql.types.StructType([\n",
    "   StructField(\"product_id\", IntegerType(), True),\n",
    "   StructField(\"product_name\", StringType(), True),\n",
    "])\n",
    "product = spark.read.csv(header=True, path='./instacart_2017_05_01/products.csv', schema=schema)"
   ]
  },
  {
   "cell_type": "code",
   "execution_count": null,
   "metadata": {},
   "outputs": [],
   "source": [
    "# 觀察資料\n",
    "print(order.first())\n",
    "print(prior_order.first())\n",
    "print(train.first())\n",
    "print(product.first())"
   ]
  },
  {
   "cell_type": "code",
   "execution_count": null,
   "metadata": {},
   "outputs": [],
   "source": [
    "# 觀察資料\n",
    "prior_order.take(20)"
   ]
  },
  {
   "cell_type": "code",
   "execution_count": null,
   "metadata": {
    "scrolled": true
   },
   "outputs": [],
   "source": [
    "# 呈現表格\n",
    "prior_order.filter(prior_order['order_id'] == 3).show()"
   ]
  },
  {
   "cell_type": "code",
   "execution_count": null,
   "metadata": {},
   "outputs": [],
   "source": [
    "# 計算數量\n",
    "print(order.select('user_id').distinct().count()) # 計算總訂單表內客戶數量\n",
    "\n",
    "# 計算總訂單表內不屬於prior表的訂單，表示每個人最後一張訂單都被取出作為test或train\n",
    "print(order.filter(order['eval_set'] != 'prior').count())"
   ]
  },
  {
   "cell_type": "code",
   "execution_count": null,
   "metadata": {},
   "outputs": [],
   "source": [
    "# 找出最多訂單的前幾名客戶\n",
    "\n",
    "order.groupBy('user_id').count().sort(\"count\", ascending=False).show(15)"
   ]
  },
  {
   "cell_type": "code",
   "execution_count": 4,
   "metadata": {},
   "outputs": [],
   "source": [
    "# 合併prior和train訂單資料，生成客戶的偏好表\n",
    "\n",
    "# 把test的訂單去除\n",
    "preference = order.filter(order['eval_set'] != 'test')\n",
    "\n",
    "# 合併prior和train訂單資料\n",
    "prefer_prior = preference.join(prior_order, \"order_id\", \"inner\").select(\"user_id\", \"order_id\", \"product_id\")\n",
    "prefer_train = preference.join(train, \"order_id\", \"inner\").select(\"user_id\", \"order_id\", \"product_id\")\n",
    "preference = prefer_prior.unionAll(prefer_train)"
   ]
  },
  {
   "cell_type": "code",
   "execution_count": null,
   "metadata": {},
   "outputs": [],
   "source": [
    "# 查詢特定客戶購買的產品數量\n",
    "\n",
    "preference.filter(preference['user_id']=='106510').groupBy(\"product_id\").count().show()"
   ]
  },
  {
   "cell_type": "code",
   "execution_count": 5,
   "metadata": {},
   "outputs": [
    {
     "data": {
      "text/plain": [
       "[Row(user_id=160475, product_id=11123, count=7),\n",
       " Row(user_id=135004, product_id=29974, count=3),\n",
       " Row(user_id=82943, product_id=48398, count=7),\n",
       " Row(user_id=157805, product_id=49273, count=2),\n",
       " Row(user_id=150317, product_id=26790, count=15),\n",
       " Row(user_id=128089, product_id=28204, count=4),\n",
       " Row(user_id=181571, product_id=13176, count=3),\n",
       " Row(user_id=92678, product_id=32655, count=17),\n",
       " Row(user_id=88698, product_id=3896, count=62),\n",
       " Row(user_id=8031, product_id=27086, count=2),\n",
       " Row(user_id=193965, product_id=33342, count=5),\n",
       " Row(user_id=131089, product_id=22035, count=5),\n",
       " Row(user_id=869, product_id=29810, count=1),\n",
       " Row(user_id=108520, product_id=8277, count=3),\n",
       " Row(user_id=194400, product_id=30142, count=9),\n",
       " Row(user_id=106483, product_id=13984, count=6),\n",
       " Row(user_id=47306, product_id=40229, count=2),\n",
       " Row(user_id=46859, product_id=8580, count=4),\n",
       " Row(user_id=37498, product_id=7139, count=1),\n",
       " Row(user_id=158552, product_id=21479, count=7),\n",
       " Row(user_id=73538, product_id=28427, count=4),\n",
       " Row(user_id=203821, product_id=31215, count=2),\n",
       " Row(user_id=19670, product_id=3913, count=2),\n",
       " Row(user_id=182832, product_id=11187, count=5),\n",
       " Row(user_id=54276, product_id=7700, count=4),\n",
       " Row(user_id=4747, product_id=33704, count=1),\n",
       " Row(user_id=199054, product_id=11512, count=4),\n",
       " Row(user_id=23251, product_id=31717, count=2),\n",
       " Row(user_id=47562, product_id=28515, count=4),\n",
       " Row(user_id=200557, product_id=28934, count=2)]"
      ]
     },
     "execution_count": 5,
     "metadata": {},
     "output_type": "execute_result"
    }
   ],
   "source": [
    "# 整理出客戶購買每個產品的次數\n",
    "\n",
    "preference = preference.groupby(\"user_id\", \"product_id\").count()\n",
    "preference.take(30)"
   ]
  },
  {
   "cell_type": "code",
   "execution_count": 6,
   "metadata": {},
   "outputs": [
    {
     "data": {
      "text/plain": [
       "DataFrame[product_id: int, user_id: int, count: bigint, product_name: string]"
      ]
     },
     "execution_count": 6,
     "metadata": {},
     "output_type": "execute_result"
    }
   ],
   "source": [
    "# 加上產品名稱\n",
    "\n",
    "preference = preference.join(product, \"product_id\")\n",
    "preference.persist()"
   ]
  },
  {
   "cell_type": "code",
   "execution_count": 11,
   "metadata": {},
   "outputs": [
    {
     "data": {
      "text/plain": [
       "[Row(product_id=9076, user_id=8853, count=1, product_name='Blueberries'),\n",
       " Row(product_id=33000, user_id=8853, count=1, product_name='Pure Irish Butter'),\n",
       " Row(product_id=21137, user_id=8853, count=1, product_name='Organic Strawberries'),\n",
       " Row(product_id=21288, user_id=8853, count=1, product_name='Blackberries'),\n",
       " Row(product_id=3798, user_id=8853, count=1, product_name='Pink Lady Apples'),\n",
       " Row(product_id=49621, user_id=8853, count=1, product_name='Challah Bread'),\n",
       " Row(product_id=26405, user_id=8853, count=4, product_name='XL Pick-A-Size Paper Towel Rolls'),\n",
       " Row(product_id=5769, user_id=8853, count=1, product_name='Organic Chicken Stock'),\n",
       " Row(product_id=23423, user_id=8853, count=1, product_name='Original Hawaiian Sweet Rolls'),\n",
       " Row(product_id=41787, user_id=8853, count=1, product_name='Bartlett Pears'),\n",
       " Row(product_id=38300, user_id=8853, count=1, product_name='Tall Kitchen Bag With Febreze Odor Shield'),\n",
       " Row(product_id=13176, user_id=8853, count=1, product_name='Bag of Organic Bananas'),\n",
       " Row(product_id=21386, user_id=8853, count=14, product_name='Smartwater'),\n",
       " Row(product_id=8571, user_id=8853, count=6, product_name='Baby Cucumbers')]"
      ]
     },
     "execution_count": 11,
     "metadata": {},
     "output_type": "execute_result"
    }
   ],
   "source": [
    "# 重新查詢客戶購買的產品\n",
    "\n",
    "preference.filter(preference.user_id == 8853).take(30)"
   ]
  },
  {
   "cell_type": "code",
   "execution_count": 8,
   "metadata": {},
   "outputs": [],
   "source": [
    "# 存成新csv檔\n",
    "\n",
    "preference.repartition(1).write.format(\"com.databricks.spark.csv\").option(\"header\", \"true\").save(\"prefer_raw.csv\")"
   ]
  }
 ],
 "metadata": {
  "kernelspec": {
   "display_name": "Python 3",
   "language": "python",
   "name": "python3"
  },
  "language_info": {
   "codemirror_mode": {
    "name": "ipython",
    "version": 3
   },
   "file_extension": ".py",
   "mimetype": "text/x-python",
   "name": "python",
   "nbconvert_exporter": "python",
   "pygments_lexer": "ipython3",
   "version": "3.8.2"
  }
 },
 "nbformat": 4,
 "nbformat_minor": 4
}
