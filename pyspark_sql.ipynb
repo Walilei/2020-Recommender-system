{
 "cells": [
  {
   "cell_type": "code",
   "execution_count": 1,
   "metadata": {},
   "outputs": [],
   "source": [
    "# 用以下指令連結spark\n",
    "import findspark\n",
    "findspark.init()\n",
    "\n",
    "import pyspark\n",
    "from pyspark import SparkContext, SparkConf\n",
    "from pyspark.sql import SparkSession\n",
    "from pyspark.sql import functions\n",
    "\n",
    "spark = SparkSession.builder.appName('instacart').getOrCreate()"
   ]
  },
  {
   "cell_type": "code",
   "execution_count": 2,
   "metadata": {},
   "outputs": [],
   "source": [
    "# 用SparkSession讀取csv為DataFrame\n",
    "prior_order = spark.read.csv(header=True, path='./instacart_2017_05_01/order_products__prior.csv')\n",
    "order = spark.read.csv(header=True, path='./instacart_2017_05_01/orders.csv')\n",
    "train = spark.read.csv(header=True, path='./instacart_2017_05_01/order_products__train.csv')\n",
    "product = spark.read.csv(header=True, path='./instacart_2017_05_01/products.csv')"
   ]
  },
  {
   "cell_type": "code",
   "execution_count": 3,
   "metadata": {},
   "outputs": [
    {
     "data": {
      "text/plain": [
       "[Row(order_id='2', product_id='33120', add_to_cart_order='1', reordered='1'),\n",
       " Row(order_id='2', product_id='28985', add_to_cart_order='2', reordered='1'),\n",
       " Row(order_id='2', product_id='9327', add_to_cart_order='3', reordered='0'),\n",
       " Row(order_id='2', product_id='45918', add_to_cart_order='4', reordered='1'),\n",
       " Row(order_id='2', product_id='30035', add_to_cart_order='5', reordered='0'),\n",
       " Row(order_id='2', product_id='17794', add_to_cart_order='6', reordered='1'),\n",
       " Row(order_id='2', product_id='40141', add_to_cart_order='7', reordered='1'),\n",
       " Row(order_id='2', product_id='1819', add_to_cart_order='8', reordered='1'),\n",
       " Row(order_id='2', product_id='43668', add_to_cart_order='9', reordered='0'),\n",
       " Row(order_id='3', product_id='33754', add_to_cart_order='1', reordered='1'),\n",
       " Row(order_id='3', product_id='24838', add_to_cart_order='2', reordered='1'),\n",
       " Row(order_id='3', product_id='17704', add_to_cart_order='3', reordered='1'),\n",
       " Row(order_id='3', product_id='21903', add_to_cart_order='4', reordered='1'),\n",
       " Row(order_id='3', product_id='17668', add_to_cart_order='5', reordered='1'),\n",
       " Row(order_id='3', product_id='46667', add_to_cart_order='6', reordered='1'),\n",
       " Row(order_id='3', product_id='17461', add_to_cart_order='7', reordered='1'),\n",
       " Row(order_id='3', product_id='32665', add_to_cart_order='8', reordered='1'),\n",
       " Row(order_id='4', product_id='46842', add_to_cart_order='1', reordered='0'),\n",
       " Row(order_id='4', product_id='26434', add_to_cart_order='2', reordered='1'),\n",
       " Row(order_id='4', product_id='39758', add_to_cart_order='3', reordered='1')]"
      ]
     },
     "execution_count": 3,
     "metadata": {},
     "output_type": "execute_result"
    }
   ],
   "source": [
    "# 觀察資料\n",
    "prior_order.take(20)"
   ]
  },
  {
   "cell_type": "code",
   "execution_count": 4,
   "metadata": {
    "scrolled": true
   },
   "outputs": [
    {
     "name": "stdout",
     "output_type": "stream",
     "text": [
      "+--------+----------+-----------------+---------+\n",
      "|order_id|product_id|add_to_cart_order|reordered|\n",
      "+--------+----------+-----------------+---------+\n",
      "|       3|     33754|                1|        1|\n",
      "|       3|     24838|                2|        1|\n",
      "|       3|     17704|                3|        1|\n",
      "|       3|     21903|                4|        1|\n",
      "|       3|     17668|                5|        1|\n",
      "|       3|     46667|                6|        1|\n",
      "|       3|     17461|                7|        1|\n",
      "|       3|     32665|                8|        1|\n",
      "+--------+----------+-----------------+---------+\n",
      "\n"
     ]
    }
   ],
   "source": [
    "# 呈現表格\n",
    "prior_order.filter(prior_order['order_id'] == '3').show()"
   ]
  },
  {
   "cell_type": "code",
   "execution_count": 5,
   "metadata": {},
   "outputs": [
    {
     "name": "stdout",
     "output_type": "stream",
     "text": [
      "206209\n",
      "206209\n"
     ]
    }
   ],
   "source": [
    "# 計算數量\n",
    "print(order.select('user_id').distinct().count()) # 計算總訂單表內客戶數量\n",
    "\n",
    "# 計算總訂單表內不屬於prior表的訂單，表示每個人最後一張訂單都被取出作為test或train\n",
    "print(order.filter(order['eval_set'] != 'prior').count())"
   ]
  },
  {
   "cell_type": "code",
   "execution_count": 6,
   "metadata": {},
   "outputs": [
    {
     "name": "stdout",
     "output_type": "stream",
     "text": [
      "+-------+-----+\n",
      "|user_id|count|\n",
      "+-------+-----+\n",
      "|   8832|  100|\n",
      "|  31118|  100|\n",
      "| 121370|  100|\n",
      "| 183981|  100|\n",
      "|  86804|  100|\n",
      "| 111982|  100|\n",
      "|  69182|  100|\n",
      "|  81549|  100|\n",
      "|  77965|  100|\n",
      "|  88150|  100|\n",
      "| 166908|  100|\n",
      "|  81342|  100|\n",
      "| 103206|  100|\n",
      "|  42975|  100|\n",
      "| 101261|  100|\n",
      "+-------+-----+\n",
      "only showing top 15 rows\n",
      "\n"
     ]
    }
   ],
   "source": [
    "# 找出最多訂單的前幾名客戶\n",
    "\n",
    "order.groupBy('user_id').count().sort(\"count\", ascending=False).show(15)"
   ]
  },
  {
   "cell_type": "code",
   "execution_count": 7,
   "metadata": {},
   "outputs": [
    {
     "name": "stdout",
     "output_type": "stream",
     "text": [
      "Row(order_id='2539329', user_id='1', eval_set='prior', order_number='1', order_dow='2', order_hour_of_day='08', days_since_prior_order=None)\n",
      "Row(order_id='2', product_id='33120', add_to_cart_order='1', reordered='1')\n",
      "Row(order_id='1', product_id='49302', add_to_cart_order='1', reordered='1')\n",
      "Row(product_id='1', product_name='Chocolate Sandwich Cookies', aisle_id='61', department_id='19')\n"
     ]
    }
   ],
   "source": [
    "print(order.first())\n",
    "print(prior_order.first())\n",
    "print(train.first())\n",
    "print(product.first())"
   ]
  },
  {
   "cell_type": "code",
   "execution_count": 8,
   "metadata": {},
   "outputs": [],
   "source": [
    "# 合併prior和train訂單資料，生成客戶的偏好表\n",
    "\n",
    "# 把test的訂單去除，並刪除目前不需要的欄位\n",
    "preference = order.filter(order['eval_set'] != 'test')\n",
    "preference = preference.drop('order_dow').drop('order_hour_of_day').drop('days_since_prior_order').drop('order_number')\n",
    "\n",
    "# 合併prior和train訂單資料\n",
    "prefer_prior = preference.join(prior_order, \"order_id\", \"inner\").select(\"user_id\", \"order_id\", \"product_id\")\n",
    "prefer_train = preference.join(train, \"order_id\", \"inner\").select(\"user_id\", \"order_id\", \"product_id\")\n",
    "preference = prefer_prior.unionAll(prefer_train)"
   ]
  },
  {
   "cell_type": "code",
   "execution_count": 9,
   "metadata": {},
   "outputs": [
    {
     "name": "stdout",
     "output_type": "stream",
     "text": [
      "+----------+-----+\n",
      "|product_id|count|\n",
      "+----------+-----+\n",
      "|      9387|   25|\n",
      "|     39877|   27|\n",
      "+----------+-----+\n",
      "\n"
     ]
    }
   ],
   "source": [
    "# 查詢特定客戶購買的產品數量\n",
    "\n",
    "preference.filter(preference['user_id']=='106510').groupBy(\"product_id\").count().show()"
   ]
  },
  {
   "cell_type": "code",
   "execution_count": 10,
   "metadata": {},
   "outputs": [],
   "source": [
    "# 加上產品名稱\n",
    "\n",
    "preference = preference.join(product, \"product_id\").select(\"user_id\", \"order_id\", \"product_id\", \"product_name\")"
   ]
  },
  {
   "cell_type": "code",
   "execution_count": 11,
   "metadata": {},
   "outputs": [
    {
     "data": {
      "text/plain": [
       "[Row(product_name='Organic Granny Smith Apple', count=27),\n",
       " Row(product_name='Granny Smith Apples', count=25)]"
      ]
     },
     "execution_count": 11,
     "metadata": {},
     "output_type": "execute_result"
    }
   ],
   "source": [
    "# 重新查詢客戶購買的產品\n",
    "\n",
    "preference.filter(preference['user_id']=='106510').groupBy(\"product_name\").count().collect()"
   ]
  }
 ],
 "metadata": {
  "kernelspec": {
   "display_name": "Python 3",
   "language": "python",
   "name": "python3"
  },
  "language_info": {
   "codemirror_mode": {
    "name": "ipython",
    "version": 3
   },
   "file_extension": ".py",
   "mimetype": "text/x-python",
   "name": "python",
   "nbconvert_exporter": "python",
   "pygments_lexer": "ipython3",
   "version": "3.8.2"
  }
 },
 "nbformat": 4,
 "nbformat_minor": 4
}
